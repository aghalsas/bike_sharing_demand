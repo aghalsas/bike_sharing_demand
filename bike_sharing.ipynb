{
 "cells": [
  {
   "cell_type": "markdown",
   "metadata": {},
   "source": [
    "# Prediction of bikes rented"
   ]
  },
  {
   "cell_type": "markdown",
   "metadata": {},
   "source": [
    "## Import Libraries and Data"
   ]
  },
  {
   "cell_type": "code",
   "execution_count": 413,
   "metadata": {},
   "outputs": [],
   "source": [
    "import numpy as np\n",
    "import pandas as pd\n",
    "import seaborn as sns\n",
    "import matplotlib.pyplot as plt\n",
    "from sklearn.model_selection import train_test_split\n",
    "from sklearn.preprocessing import StandardScaler\n",
    "from sklearn.preprocessing import OneHotEncoder\n",
    "from sklearn.model_selection import GridSearchCV\n",
    "from sklearn.ensemble import RandomForestRegressor\n",
    "from sklearn.ensemble import AdaBoostRegressor\n",
    "import xgboost as xgb\n",
    "from sklearn.metrics import r2_score,mean_squared_error, mean_squared_log_error\n",
    "from sklearn.linear_model import LinearRegression\n",
    "import time"
   ]
  },
  {
   "cell_type": "code",
   "execution_count": 385,
   "metadata": {},
   "outputs": [
    {
     "data": {
      "text/html": [
       "<div>\n",
       "<style scoped>\n",
       "    .dataframe tbody tr th:only-of-type {\n",
       "        vertical-align: middle;\n",
       "    }\n",
       "\n",
       "    .dataframe tbody tr th {\n",
       "        vertical-align: top;\n",
       "    }\n",
       "\n",
       "    .dataframe thead th {\n",
       "        text-align: right;\n",
       "    }\n",
       "</style>\n",
       "<table border=\"1\" class=\"dataframe\">\n",
       "  <thead>\n",
       "    <tr style=\"text-align: right;\">\n",
       "      <th></th>\n",
       "      <th>datetime</th>\n",
       "      <th>season</th>\n",
       "      <th>holiday</th>\n",
       "      <th>workingday</th>\n",
       "      <th>weather</th>\n",
       "      <th>temp</th>\n",
       "      <th>atemp</th>\n",
       "      <th>humidity</th>\n",
       "      <th>windspeed</th>\n",
       "      <th>casual</th>\n",
       "      <th>registered</th>\n",
       "      <th>count</th>\n",
       "    </tr>\n",
       "  </thead>\n",
       "  <tbody>\n",
       "    <tr>\n",
       "      <th>0</th>\n",
       "      <td>2011-01-01 00:00:00</td>\n",
       "      <td>1</td>\n",
       "      <td>0</td>\n",
       "      <td>0</td>\n",
       "      <td>1</td>\n",
       "      <td>9.84</td>\n",
       "      <td>14.395</td>\n",
       "      <td>81</td>\n",
       "      <td>0.0</td>\n",
       "      <td>3</td>\n",
       "      <td>13</td>\n",
       "      <td>16</td>\n",
       "    </tr>\n",
       "    <tr>\n",
       "      <th>1</th>\n",
       "      <td>2011-01-01 01:00:00</td>\n",
       "      <td>1</td>\n",
       "      <td>0</td>\n",
       "      <td>0</td>\n",
       "      <td>1</td>\n",
       "      <td>9.02</td>\n",
       "      <td>13.635</td>\n",
       "      <td>80</td>\n",
       "      <td>0.0</td>\n",
       "      <td>8</td>\n",
       "      <td>32</td>\n",
       "      <td>40</td>\n",
       "    </tr>\n",
       "    <tr>\n",
       "      <th>2</th>\n",
       "      <td>2011-01-01 02:00:00</td>\n",
       "      <td>1</td>\n",
       "      <td>0</td>\n",
       "      <td>0</td>\n",
       "      <td>1</td>\n",
       "      <td>9.02</td>\n",
       "      <td>13.635</td>\n",
       "      <td>80</td>\n",
       "      <td>0.0</td>\n",
       "      <td>5</td>\n",
       "      <td>27</td>\n",
       "      <td>32</td>\n",
       "    </tr>\n",
       "    <tr>\n",
       "      <th>3</th>\n",
       "      <td>2011-01-01 03:00:00</td>\n",
       "      <td>1</td>\n",
       "      <td>0</td>\n",
       "      <td>0</td>\n",
       "      <td>1</td>\n",
       "      <td>9.84</td>\n",
       "      <td>14.395</td>\n",
       "      <td>75</td>\n",
       "      <td>0.0</td>\n",
       "      <td>3</td>\n",
       "      <td>10</td>\n",
       "      <td>13</td>\n",
       "    </tr>\n",
       "    <tr>\n",
       "      <th>4</th>\n",
       "      <td>2011-01-01 04:00:00</td>\n",
       "      <td>1</td>\n",
       "      <td>0</td>\n",
       "      <td>0</td>\n",
       "      <td>1</td>\n",
       "      <td>9.84</td>\n",
       "      <td>14.395</td>\n",
       "      <td>75</td>\n",
       "      <td>0.0</td>\n",
       "      <td>0</td>\n",
       "      <td>1</td>\n",
       "      <td>1</td>\n",
       "    </tr>\n",
       "  </tbody>\n",
       "</table>\n",
       "</div>"
      ],
      "text/plain": [
       "              datetime  season  holiday  workingday  weather  temp   atemp  \\\n",
       "0  2011-01-01 00:00:00       1        0           0        1  9.84  14.395   \n",
       "1  2011-01-01 01:00:00       1        0           0        1  9.02  13.635   \n",
       "2  2011-01-01 02:00:00       1        0           0        1  9.02  13.635   \n",
       "3  2011-01-01 03:00:00       1        0           0        1  9.84  14.395   \n",
       "4  2011-01-01 04:00:00       1        0           0        1  9.84  14.395   \n",
       "\n",
       "   humidity  windspeed  casual  registered  count  \n",
       "0        81        0.0       3          13     16  \n",
       "1        80        0.0       8          32     40  \n",
       "2        80        0.0       5          27     32  \n",
       "3        75        0.0       3          10     13  \n",
       "4        75        0.0       0           1      1  "
      ]
     },
     "execution_count": 385,
     "metadata": {},
     "output_type": "execute_result"
    }
   ],
   "source": [
    "df = pd.read_csv('train.csv')\n",
    "df.head()"
   ]
  },
  {
   "cell_type": "code",
   "execution_count": 386,
   "metadata": {},
   "outputs": [],
   "source": [
    "df['Date'] = pd.to_datetime(df['datetime'])\n",
    "df['Month'] = df['Date'].dt.month\n",
    "df['year'] = df['Date'].dt.year\n",
    "df['dayowk'] = df['Date'].dt.dayofweek\n",
    "df['hour'] = df['Date'].dt.hour\n",
    "df.drop('datetime',axis=1,inplace = True)\n",
    "df.drop('Date',axis=1,inplace = True)"
   ]
  },
  {
   "cell_type": "markdown",
   "metadata": {},
   "source": [
    "No null values"
   ]
  },
  {
   "cell_type": "code",
   "execution_count": 387,
   "metadata": {},
   "outputs": [
    {
     "data": {
      "text/plain": [
       "season        0\n",
       "holiday       0\n",
       "workingday    0\n",
       "weather       0\n",
       "temp          0\n",
       "atemp         0\n",
       "humidity      0\n",
       "windspeed     0\n",
       "casual        0\n",
       "registered    0\n",
       "count         0\n",
       "Month         0\n",
       "year          0\n",
       "dayowk        0\n",
       "hour          0\n",
       "dtype: int64"
      ]
     },
     "execution_count": 387,
     "metadata": {},
     "output_type": "execute_result"
    }
   ],
   "source": [
    "df.isnull().sum()"
   ]
  },
  {
   "cell_type": "code",
   "execution_count": 388,
   "metadata": {},
   "outputs": [
    {
     "data": {
      "text/html": [
       "<div>\n",
       "<style scoped>\n",
       "    .dataframe tbody tr th:only-of-type {\n",
       "        vertical-align: middle;\n",
       "    }\n",
       "\n",
       "    .dataframe tbody tr th {\n",
       "        vertical-align: top;\n",
       "    }\n",
       "\n",
       "    .dataframe thead th {\n",
       "        text-align: right;\n",
       "    }\n",
       "</style>\n",
       "<table border=\"1\" class=\"dataframe\">\n",
       "  <thead>\n",
       "    <tr style=\"text-align: right;\">\n",
       "      <th></th>\n",
       "      <th>season</th>\n",
       "      <th>holiday</th>\n",
       "      <th>workingday</th>\n",
       "      <th>weather</th>\n",
       "      <th>temp</th>\n",
       "      <th>atemp</th>\n",
       "      <th>humidity</th>\n",
       "      <th>windspeed</th>\n",
       "      <th>casual</th>\n",
       "      <th>registered</th>\n",
       "      <th>count</th>\n",
       "      <th>Month</th>\n",
       "      <th>year</th>\n",
       "      <th>dayowk</th>\n",
       "      <th>hour</th>\n",
       "    </tr>\n",
       "  </thead>\n",
       "  <tbody>\n",
       "    <tr>\n",
       "      <th>0</th>\n",
       "      <td>1</td>\n",
       "      <td>0</td>\n",
       "      <td>0</td>\n",
       "      <td>1</td>\n",
       "      <td>9.84</td>\n",
       "      <td>14.395</td>\n",
       "      <td>81</td>\n",
       "      <td>0.0</td>\n",
       "      <td>3</td>\n",
       "      <td>13</td>\n",
       "      <td>16</td>\n",
       "      <td>1</td>\n",
       "      <td>2011</td>\n",
       "      <td>5</td>\n",
       "      <td>0</td>\n",
       "    </tr>\n",
       "    <tr>\n",
       "      <th>1</th>\n",
       "      <td>1</td>\n",
       "      <td>0</td>\n",
       "      <td>0</td>\n",
       "      <td>1</td>\n",
       "      <td>9.02</td>\n",
       "      <td>13.635</td>\n",
       "      <td>80</td>\n",
       "      <td>0.0</td>\n",
       "      <td>8</td>\n",
       "      <td>32</td>\n",
       "      <td>40</td>\n",
       "      <td>1</td>\n",
       "      <td>2011</td>\n",
       "      <td>5</td>\n",
       "      <td>1</td>\n",
       "    </tr>\n",
       "    <tr>\n",
       "      <th>2</th>\n",
       "      <td>1</td>\n",
       "      <td>0</td>\n",
       "      <td>0</td>\n",
       "      <td>1</td>\n",
       "      <td>9.02</td>\n",
       "      <td>13.635</td>\n",
       "      <td>80</td>\n",
       "      <td>0.0</td>\n",
       "      <td>5</td>\n",
       "      <td>27</td>\n",
       "      <td>32</td>\n",
       "      <td>1</td>\n",
       "      <td>2011</td>\n",
       "      <td>5</td>\n",
       "      <td>2</td>\n",
       "    </tr>\n",
       "    <tr>\n",
       "      <th>3</th>\n",
       "      <td>1</td>\n",
       "      <td>0</td>\n",
       "      <td>0</td>\n",
       "      <td>1</td>\n",
       "      <td>9.84</td>\n",
       "      <td>14.395</td>\n",
       "      <td>75</td>\n",
       "      <td>0.0</td>\n",
       "      <td>3</td>\n",
       "      <td>10</td>\n",
       "      <td>13</td>\n",
       "      <td>1</td>\n",
       "      <td>2011</td>\n",
       "      <td>5</td>\n",
       "      <td>3</td>\n",
       "    </tr>\n",
       "    <tr>\n",
       "      <th>4</th>\n",
       "      <td>1</td>\n",
       "      <td>0</td>\n",
       "      <td>0</td>\n",
       "      <td>1</td>\n",
       "      <td>9.84</td>\n",
       "      <td>14.395</td>\n",
       "      <td>75</td>\n",
       "      <td>0.0</td>\n",
       "      <td>0</td>\n",
       "      <td>1</td>\n",
       "      <td>1</td>\n",
       "      <td>1</td>\n",
       "      <td>2011</td>\n",
       "      <td>5</td>\n",
       "      <td>4</td>\n",
       "    </tr>\n",
       "  </tbody>\n",
       "</table>\n",
       "</div>"
      ],
      "text/plain": [
       "   season  holiday  workingday  weather  temp   atemp  humidity  windspeed  \\\n",
       "0       1        0           0        1  9.84  14.395        81        0.0   \n",
       "1       1        0           0        1  9.02  13.635        80        0.0   \n",
       "2       1        0           0        1  9.02  13.635        80        0.0   \n",
       "3       1        0           0        1  9.84  14.395        75        0.0   \n",
       "4       1        0           0        1  9.84  14.395        75        0.0   \n",
       "\n",
       "   casual  registered  count  Month  year  dayowk  hour  \n",
       "0       3          13     16      1  2011       5     0  \n",
       "1       8          32     40      1  2011       5     1  \n",
       "2       5          27     32      1  2011       5     2  \n",
       "3       3          10     13      1  2011       5     3  \n",
       "4       0           1      1      1  2011       5     4  "
      ]
     },
     "execution_count": 388,
     "metadata": {},
     "output_type": "execute_result"
    }
   ],
   "source": [
    "df.head()"
   ]
  },
  {
   "cell_type": "code",
   "execution_count": 306,
   "metadata": {},
   "outputs": [],
   "source": [
    "df_test = pd.read_csv('test.csv')\n",
    "df_test['Date'] = pd.to_datetime(df_test['datetime'])\n",
    "df_test['Month'] = df_test['Date'].dt.month\n",
    "df_test['year'] = df_test['Date'].dt.year\n",
    "df_test['dayowk'] = df_test['Date'].dt.dayofweek\n",
    "df_test['hour'] = df_test['Date'].dt.hour\n",
    "df_test.drop('datetime',axis=1,inplace = True)\n",
    "df_test.drop('Date',axis=1,inplace = True)"
   ]
  },
  {
   "cell_type": "code",
   "execution_count": 391,
   "metadata": {},
   "outputs": [],
   "source": [
    "X_feat = df.drop(['casual','registered','count'],axis=1)\n",
    "y_feat = df[['casual','registered','count']]"
   ]
  },
  {
   "cell_type": "code",
   "execution_count": 392,
   "metadata": {},
   "outputs": [
    {
     "data": {
      "text/plain": [
       "season         4\n",
       "holiday        2\n",
       "workingday     2\n",
       "weather        4\n",
       "temp          49\n",
       "atemp         60\n",
       "humidity      89\n",
       "windspeed     28\n",
       "Month         12\n",
       "year           2\n",
       "dayowk         7\n",
       "hour          24\n",
       "dtype: int64"
      ]
     },
     "execution_count": 392,
     "metadata": {},
     "output_type": "execute_result"
    }
   ],
   "source": [
    "X_feat.nunique()"
   ]
  },
  {
   "cell_type": "code",
   "execution_count": 393,
   "metadata": {},
   "outputs": [],
   "source": [
    "continuous = X_feat.columns[X_feat.nunique() > 24]\n",
    "discrete = X_feat.columns[X_feat.nunique() <= 24]"
   ]
  },
  {
   "cell_type": "code",
   "execution_count": 394,
   "metadata": {},
   "outputs": [
    {
     "data": {
      "text/plain": [
       "Index(['season', 'holiday', 'workingday', 'weather', 'Month', 'year', 'dayowk',\n",
       "       'hour'],\n",
       "      dtype='object')"
      ]
     },
     "execution_count": 394,
     "metadata": {},
     "output_type": "execute_result"
    }
   ],
   "source": [
    "discrete"
   ]
  },
  {
   "cell_type": "markdown",
   "metadata": {},
   "source": [
    "### Visualizing the features"
   ]
  },
  {
   "cell_type": "code",
   "execution_count": 395,
   "metadata": {},
   "outputs": [
    {
     "name": "stderr",
     "output_type": "stream",
     "text": [
      "/Users/akshayghalsasi/opt/anaconda3/lib/python3.8/site-packages/seaborn/distributions.py:2551: FutureWarning: `distplot` is a deprecated function and will be removed in a future version. Please adapt your code to use either `displot` (a figure-level function with similar flexibility) or `histplot` (an axes-level function for histograms).\n",
      "  warnings.warn(msg, FutureWarning)\n",
      "/Users/akshayghalsasi/opt/anaconda3/lib/python3.8/site-packages/seaborn/distributions.py:2551: FutureWarning: `distplot` is a deprecated function and will be removed in a future version. Please adapt your code to use either `displot` (a figure-level function with similar flexibility) or `histplot` (an axes-level function for histograms).\n",
      "  warnings.warn(msg, FutureWarning)\n",
      "/Users/akshayghalsasi/opt/anaconda3/lib/python3.8/site-packages/seaborn/distributions.py:2551: FutureWarning: `distplot` is a deprecated function and will be removed in a future version. Please adapt your code to use either `displot` (a figure-level function with similar flexibility) or `histplot` (an axes-level function for histograms).\n",
      "  warnings.warn(msg, FutureWarning)\n",
      "/Users/akshayghalsasi/opt/anaconda3/lib/python3.8/site-packages/seaborn/distributions.py:2551: FutureWarning: `distplot` is a deprecated function and will be removed in a future version. Please adapt your code to use either `displot` (a figure-level function with similar flexibility) or `histplot` (an axes-level function for histograms).\n",
      "  warnings.warn(msg, FutureWarning)\n"
     ]
    },
    {
     "data": {
      "image/png": "[encoded data removed]",
      "text/plain": [
       "<Figure size 864x576 with 4 Axes>"
      ]
     },
     "metadata": {
      "needs_background": "light"
     },
     "output_type": "display_data"
    }
   ],
   "source": [
    "fig = plt.figure(figsize=(12,8))\n",
    "\n",
    "for i,col in enumerate(continuous):\n",
    "    plt.subplot(2,3,i+1);\n",
    "    sns.distplot(X_feat[col],label=str(col));\n",
    "    plt.legend()\n",
    "    plt.tight_layout()"
   ]
  },
  {
   "cell_type": "code",
   "execution_count": 397,
   "metadata": {},
   "outputs": [
    {
     "data": {
      "image/png": "[encoded data removed]",
      "text/plain": [
       "<Figure size 576x576 with 8 Axes>"
      ]
     },
     "metadata": {
      "needs_background": "light"
     },
     "output_type": "display_data"
    }
   ],
   "source": [
    "fig = plt.figure(figsize=(8,8))\n",
    "\n",
    "for i,col in enumerate(discrete):\n",
    "    plt.subplot(3,3,i+1);\n",
    "    plt.bar(x = df[col].unique(),height = df.groupby(col)['count'].sum(),label = col);\n",
    "    plt.legend()\n",
    "    plt.tight_layout()\n"
   ]
  },
  {
   "cell_type": "markdown",
   "metadata": {},
   "source": [
    "### Looking at target distributions"
   ]
  },
  {
   "cell_type": "code",
   "execution_count": 400,
   "metadata": {},
   "outputs": [
    {
     "name": "stderr",
     "output_type": "stream",
     "text": [
      "/Users/akshayghalsasi/opt/anaconda3/lib/python3.8/site-packages/seaborn/distributions.py:2551: FutureWarning: `distplot` is a deprecated function and will be removed in a future version. Please adapt your code to use either `displot` (a figure-level function with similar flexibility) or `histplot` (an axes-level function for histograms).\n",
      "  warnings.warn(msg, FutureWarning)\n",
      "/Users/akshayghalsasi/opt/anaconda3/lib/python3.8/site-packages/seaborn/distributions.py:2551: FutureWarning: `distplot` is a deprecated function and will be removed in a future version. Please adapt your code to use either `displot` (a figure-level function with similar flexibility) or `histplot` (an axes-level function for histograms).\n",
      "  warnings.warn(msg, FutureWarning)\n",
      "/Users/akshayghalsasi/opt/anaconda3/lib/python3.8/site-packages/seaborn/distributions.py:2551: FutureWarning: `distplot` is a deprecated function and will be removed in a future version. Please adapt your code to use either `displot` (a figure-level function with similar flexibility) or `histplot` (an axes-level function for histograms).\n",
      "  warnings.warn(msg, FutureWarning)\n"
     ]
    },
    {
     "data": {
      "image/png": "[encoded data removed]",
      "text/plain": [
       "<Figure size 864x288 with 3 Axes>"
      ]
     },
     "metadata": {
      "needs_background": "light"
     },
     "output_type": "display_data"
    }
   ],
   "source": [
    "fig = plt.figure(figsize=(12,4))\n",
    "\n",
    "for i,col in enumerate(['casual','registered','count']):\n",
    "    plt.subplot(1,3,i+1);\n",
    "    sns.distplot(y_feat[col],label=str(col));\n",
    "    plt.legend()\n",
    "    plt.tight_layout()"
   ]
  },
  {
   "cell_type": "code",
   "execution_count": 398,
   "metadata": {},
   "outputs": [
    {
     "data": {
      "text/plain": [
       "<AxesSubplot:>"
      ]
     },
     "execution_count": 398,
     "metadata": {},
     "output_type": "execute_result"
    },
    {
     "data": {
      "image/png": "[encoded data removed]",
      "text/plain": [
       "<Figure size 576x576 with 2 Axes>"
      ]
     },
     "metadata": {
      "needs_background": "light"
     },
     "output_type": "display_data"
    }
   ],
   "source": [
    "plt.figure(figsize=(8,8))\n",
    "sns.heatmap(df[np.append(continuous,'count')].corr(),vmax=1.,square=True)"
   ]
  },
  {
   "cell_type": "markdown",
   "metadata": {},
   "source": [
    "## Random Forest Regressor"
   ]
  },
  {
   "cell_type": "code",
   "execution_count": 403,
   "metadata": {},
   "outputs": [],
   "source": [
    "submission = pd.read_csv('sampleSubmission.csv')"
   ]
  },
  {
   "cell_type": "code",
   "execution_count": 401,
   "metadata": {},
   "outputs": [
    {
     "name": "stdout",
     "output_type": "stream",
     "text": [
      "0.3385685153331488\n",
      "28.855823040008545\n"
     ]
    }
   ],
   "source": [
    "start = time.time()\n",
    "y = np.log(1+df['count'])\n",
    "scaler = StandardScaler()\n",
    "#X= scaler.fit_transform(pd.get_dummies(df.drop(['casual','registered','count'],axis=1), columns = discrete))\n",
    "X= pd.get_dummies(df.drop(['casual','registered','count'],axis=1), columns = discrete)\n",
    "X_train, X_test, y_train, y_test = train_test_split(X, y, test_size=0.2,random_state = 42)\n",
    "\n",
    "rf_clf = RandomForestRegressor()\n",
    "rf_param_grid = {\n",
    "            'n_estimators': [100],\n",
    "            'criterion': ['mse'],\n",
    "            'max_depth': [None, 2, 3, 5,10],\n",
    "            'min_samples_split': [None,5,10],\n",
    "            'min_samples_leaf': [None,3,5],\n",
    "        }\n",
    "rf_grid_search = GridSearchCV(rf_clf, rf_param_grid, cv=5,n_jobs=-1)\n",
    "rf_grid_search.fit(X_train, y_train)\n",
    "\n",
    "y_pred_RF = rf_grid_search.predict(X_test)\n",
    "mse = mean_squared_error(y_pred_RF,y_test)\n",
    "print(np.sqrt(mse))\n",
    "print(time.time()-start)"
   ]
  },
  {
   "cell_type": "code",
   "execution_count": null,
   "metadata": {},
   "outputs": [],
   "source": [
    "X_sub = pd.get_dummies(df_test,columns=discrete)\n",
    "y_sub_RF = rf_grid_search.predict(X_sub)\n",
    "y_sub_final = np.exp(y_sub_RF) - 1\n",
    "\n",
    "submission['count'] = y_sub_final\n",
    "\n",
    "submission.to_csv('RF.csv',index=False)"
   ]
  },
  {
   "cell_type": "markdown",
   "metadata": {},
   "source": [
    "## XGBoost"
   ]
  },
  {
   "cell_type": "code",
   "execution_count": 407,
   "metadata": {},
   "outputs": [
    {
     "name": "stdout",
     "output_type": "stream",
     "text": [
      "0.3228081128667652\n",
      "64.05141925811768\n"
     ]
    }
   ],
   "source": [
    "start = time.time()\n",
    "y = np.log(1+df['count'])\n",
    "scaler = StandardScaler()\n",
    "#X= scaler.fit_transform(pd.get_dummies(df.drop(['casual','registered','count'],axis=1), columns = discrete))\n",
    "X= pd.get_dummies(df.drop(['casual','registered','count'],axis=1), columns = discrete)\n",
    "X_train, X_test, y_train, y_test = train_test_split(X, y, test_size=0.2,random_state = 42)\n",
    "\n",
    "xg = xgb.XGBRegressor(objective= 'reg:squarederror',)\n",
    "xgb_param_grid = {\n",
    "            'max_depth': range (2, 10, 2),\n",
    "            'n_estimators': range(20, 120, 20),\n",
    "            'learning_rate': [0.001,0.01, 0.1]\n",
    "        }\n",
    "xgb_grid_search = GridSearchCV(\n",
    "            estimator=xg,\n",
    "            param_grid=xgb_param_grid,\n",
    "            n_jobs = -1,\n",
    "            cv = 5,\n",
    "            verbose=False\n",
    "        )\n",
    "\n",
    "xgb_grid_search.fit(X_train,y_train)\n",
    "y_pred_xgb = xgb_grid_search.predict(X_test)\n",
    "mse = mean_squared_error(y_pred_xgb,y_test)\n",
    "print(np.sqrt(mse))\n",
    "print(time.time()-start)"
   ]
  },
  {
   "cell_type": "code",
   "execution_count": 420,
   "metadata": {},
   "outputs": [],
   "source": [
    "lineardata = {'RF':rf_grid_search.predict(X_train), 'XGB': xgb_grid_search.predict(X_train)}\n",
    "X_lin =pd.DataFrame.from_dict(lineardata)\n",
    "y_lin = y_train\n",
    "reg = LinearRegression().fit(X_lin, y_lin)\n",
    "coefs = reg.coef_"
   ]
  },
  {
   "cell_type": "code",
   "execution_count": 421,
   "metadata": {},
   "outputs": [
    {
     "name": "stdout",
     "output_type": "stream",
     "text": [
      "[0.35394871 0.67639882]\n"
     ]
    }
   ],
   "source": [
    "lineardata = {'RF':y_pred_RF, 'XGB': y_pred_xgb}\n",
    "X_lin =pd.DataFrame.from_dict(lineardata)\n",
    "y_lin = y_test\n",
    "reg = LinearRegression().fit(X_lin, y_lin)\n",
    "print(reg.coef_)"
   ]
  },
  {
   "cell_type": "code",
   "execution_count": 425,
   "metadata": {},
   "outputs": [
    {
     "data": {
      "text/plain": [
       "3133     0.075915\n",
       "5786    -0.770791\n",
       "5224    -0.163668\n",
       "8953    -0.168945\n",
       "8054    -0.210940\n",
       "           ...   \n",
       "1963     0.002068\n",
       "5807     0.249728\n",
       "10061   -0.164121\n",
       "5427    -0.024457\n",
       "7588    -0.257776\n",
       "Name: count, Length: 2178, dtype: float64"
      ]
     },
     "execution_count": 425,
     "metadata": {},
     "output_type": "execute_result"
    }
   ],
   "source": [
    "y_pred_RF-y_test"
   ]
  },
  {
   "cell_type": "code",
   "execution_count": 428,
   "metadata": {},
   "outputs": [
    {
     "name": "stdout",
     "output_type": "stream",
     "text": [
      "0.11462863957489261\n"
     ]
    }
   ],
   "source": [
    "y_test_comb = (1*y_pred_RF + 0*y_pred_xgb)\n",
    "mse = mean_squared_error(y_pred_RF,y_test)\n",
    "print(mse)"
   ]
  },
  {
   "cell_type": "code",
   "execution_count": 430,
   "metadata": {},
   "outputs": [],
   "source": [
    "X_sub = pd.get_dummies(df_test,columns=discrete)\n",
    "y_sub_RF = rf_grid_search.predict(X_sub)\n",
    "y_sub_xgb = xgb_grid_search.predict(X_sub)\n",
    "\n",
    "y_sub_final = (coefs[0]*y_sub_RF + coefs[1]*y_sub_xgb)/(coefs[0]+coefs[1])\n",
    "\n",
    "submission['count'] = np.exp(y_sub_final)-1\n",
    "\n",
    "submission.to_csv('RF_xgb_linearcomb.csv',index=False)"
   ]
  },
  {
   "cell_type": "markdown",
   "metadata": {},
   "source": [
    "### Registered only"
   ]
  },
  {
   "cell_type": "code",
   "execution_count": 325,
   "metadata": {},
   "outputs": [
    {
     "name": "stdout",
     "output_type": "stream",
     "text": [
      "0.31749822150554863\n",
      "28.4130859375\n"
     ]
    }
   ],
   "source": [
    "start = time.time()\n",
    "y = np.log(1+df['registered'])\n",
    "scaler = StandardScaler()\n",
    "#X= scaler.fit_transform(pd.get_dummies(df.drop(['casual','registered','count'],axis=1), columns = discrete))\n",
    "X= pd.get_dummies(df.drop(['casual','registered','count'],axis=1), columns = discrete)\n",
    "X_train, X_test, y_train, y_test = train_test_split(X, y, test_size=0.2,random_state = 42)\n",
    "\n",
    "rf_clf = RandomForestRegressor()\n",
    "rf_param_grid = {\n",
    "            'n_estimators': [100],\n",
    "            'criterion': ['mse'],\n",
    "            'max_depth': [None, 2, 3, 5,10],\n",
    "            'min_samples_split': [None,5,10],\n",
    "            'min_samples_leaf': [None,3,5]\n",
    "        }\n",
    "rf_grid_search = GridSearchCV(rf_clf, rf_param_grid, cv=5,n_jobs=-1)\n",
    "rf_grid_search.fit(X_train, y_train)\n",
    "\n",
    "y_pred_RF = rf_grid_search.predict(X_test)\n",
    "mse = mean_squared_error(y_pred_RF,y_test)\n",
    "print(np.sqrt(mse))\n",
    "print(time.time()-start)"
   ]
  },
  {
   "cell_type": "code",
   "execution_count": 431,
   "metadata": {},
   "outputs": [
    {
     "name": "stdout",
     "output_type": "stream",
     "text": [
      "0.315977711184292\n",
      "64.2020308971405\n"
     ]
    }
   ],
   "source": [
    "start = time.time()\n",
    "y = np.log(1+df['registered'])\n",
    "scaler = StandardScaler()\n",
    "#X= scaler.fit_transform(pd.get_dummies(df.drop(['casual','registered','count'],axis=1), columns = discrete))\n",
    "X= pd.get_dummies(df.drop(['casual','registered','count'],axis=1), columns = discrete)\n",
    "X_train, X_test, y_train, y_test = train_test_split(X, y, test_size=0.2,random_state = 42)\n",
    "\n",
    "xg = xgb.XGBRegressor(objective= 'reg:squarederror',)\n",
    "xgb_param_grid = {\n",
    "            'max_depth': range (2, 10, 2),\n",
    "            'n_estimators': range(20, 120, 20),\n",
    "            'learning_rate': [0.001,0.01, 0.1]\n",
    "        }\n",
    "xgb_grid_search_reg = GridSearchCV(\n",
    "            estimator=xg,\n",
    "            param_grid=xgb_param_grid,\n",
    "            n_jobs = -1,\n",
    "            cv = 5,\n",
    "            verbose=False\n",
    "        )\n",
    "\n",
    "xgb_grid_search_reg.fit(X_train,y_train)\n",
    "y_pred_xgb_reg = xgb_grid_search_reg.predict(X_test)\n",
    "mse = mean_squared_error(y_pred_xgb_reg,y_test)\n",
    "print(np.sqrt(mse))\n",
    "print(time.time()-start)"
   ]
  },
  {
   "cell_type": "markdown",
   "metadata": {},
   "source": [
    "### Casual Only"
   ]
  },
  {
   "cell_type": "code",
   "execution_count": 369,
   "metadata": {},
   "outputs": [
    {
     "name": "stderr",
     "output_type": "stream",
     "text": [
      "/Users/akshayghalsasi/opt/anaconda3/lib/python3.8/site-packages/joblib/externals/loky/process_executor.py:688: UserWarning: A worker stopped while some jobs were given to the executor. This can be caused by a too short worker timeout or by a memory leak.\n",
      "  warnings.warn(\n"
     ]
    },
    {
     "name": "stdout",
     "output_type": "stream",
     "text": [
      "0.5102251241009166\n",
      "60.82933688163757\n"
     ]
    }
   ],
   "source": [
    "start = time.time()\n",
    "y = np.log(1+df['casual'])\n",
    "scaler = StandardScaler()\n",
    "#X= scaler.fit_transform(pd.get_dummies(df.drop(['casual','registered','count'],axis=1), columns = discrete))\n",
    "X= pd.get_dummies(df.drop(['casual','registered','count'],axis=1), columns = discrete)\n",
    "X_train, X_test, y_train, y_test = train_test_split(X, y, test_size=0.2,random_state = 42)\n",
    "\n",
    "xg = xgb.XGBRegressor(objective= 'reg:squarederror',)\n",
    "xgb_param_grid = {\n",
    "            'max_depth': range (2, 10, 2),\n",
    "            'n_estimators': range(20, 120, 20),\n",
    "            'learning_rate': [0.001,0.01, 0.1]\n",
    "        }\n",
    "xgb_grid_search_cas = GridSearchCV(\n",
    "            estimator=xg,\n",
    "            param_grid=xgb_param_grid,\n",
    "            n_jobs = -1,\n",
    "            cv = 5,\n",
    "            verbose=False\n",
    "        )\n",
    "\n",
    "xgb_grid_search_cas.fit(X_train,y_train)\n",
    "y_pred_xgb_cas = xgb_grid_search_cas.predict(X_test)\n",
    "mse = mean_squared_error(y_pred_xgb_cas,y_test)\n",
    "print(np.sqrt(mse))\n",
    "print(time.time()-start)"
   ]
  },
  {
   "cell_type": "markdown",
   "metadata": {},
   "source": [
    "### Adding registered and casual"
   ]
  },
  {
   "cell_type": "code",
   "execution_count": 432,
   "metadata": {},
   "outputs": [
    {
     "name": "stdout",
     "output_type": "stream",
     "text": [
      "0.31293280018695363\n"
     ]
    }
   ],
   "source": [
    "y_pred_reg_cas = np.log((np.exp(y_pred_xgb_reg)-1 + np.exp(y_pred_xgb_cas)-1)+1)\n",
    "\n",
    "y = np.log(1+df['count'])\n",
    "X_train, X_test, y_train, y_test = train_test_split(X, y, test_size=0.2,random_state = 42)\n",
    "mse = mean_squared_error(y_pred_reg_cas,y_test)\n",
    "print(np.sqrt(mse))"
   ]
  },
  {
   "cell_type": "code",
   "execution_count": 372,
   "metadata": {},
   "outputs": [],
   "source": [
    "y_sub_xgb_reg = xgb_grid_search_reg.predict(X_sub)\n",
    "y_sub_xgb_cas = xgb_grid_search_cas.predict(X_sub)\n",
    "y_sub_reg_cas = np.log((np.exp(y_sub_xgb_reg)-1 + np.exp(y_sub_xgb_cas)-1)+1)\n",
    "submission['count'] = np.exp(y_sub_reg_cas) -1\n",
    "submission.to_csv('xgb_separate.csv',index=False)"
   ]
  },
  {
   "cell_type": "markdown",
   "metadata": {},
   "source": [
    "### Adding registered output as input to casual"
   ]
  },
  {
   "cell_type": "code",
   "execution_count": 381,
   "metadata": {},
   "outputs": [
    {
     "name": "stderr",
     "output_type": "stream",
     "text": [
      "<ipython-input-381-7726a83002cd>:11: SettingWithCopyWarning: \n",
      "A value is trying to be set on a copy of a slice from a DataFrame.\n",
      "Try using .loc[row_indexer,col_indexer] = value instead\n",
      "\n",
      "See the caveats in the documentation: https://pandas.pydata.org/pandas-docs/stable/user_guide/indexing.html#returning-a-view-versus-a-copy\n",
      "  X_train['predicted_reg'] = y_pred_train\n",
      "<ipython-input-381-7726a83002cd>:12: SettingWithCopyWarning: \n",
      "A value is trying to be set on a copy of a slice from a DataFrame.\n",
      "Try using .loc[row_indexer,col_indexer] = value instead\n",
      "\n",
      "See the caveats in the documentation: https://pandas.pydata.org/pandas-docs/stable/user_guide/indexing.html#returning-a-view-versus-a-copy\n",
      "  X_test['predicted_reg'] = y_pred_test\n",
      "/Users/akshayghalsasi/opt/anaconda3/lib/python3.8/site-packages/joblib/externals/loky/process_executor.py:688: UserWarning: A worker stopped while some jobs were given to the executor. This can be caused by a too short worker timeout or by a memory leak.\n",
      "  warnings.warn(\n"
     ]
    },
    {
     "name": "stdout",
     "output_type": "stream",
     "text": [
      "0.4955180631781167\n",
      "64.96817779541016\n"
     ]
    }
   ],
   "source": [
    "start = time.time()\n",
    "y = np.log(1+df['casual'])\n",
    "scaler = StandardScaler()\n",
    "#X= scaler.fit_transform(pd.get_dummies(df.drop(['casual','registered','count'],axis=1), columns = discrete))\n",
    "X= pd.get_dummies(df.drop(['casual','registered','count'],axis=1), columns = discrete)\n",
    "X_train, X_test, y_train, y_test = train_test_split(X, y, test_size=0.2,random_state = 42)\n",
    "\n",
    "y_pred_train = xgb_grid_search_reg.predict(X_train)\n",
    "y_pred_test = xgb_grid_search_reg.predict(X_test)\n",
    "\n",
    "X_train['predicted_reg'] = y_pred_train\n",
    "X_test['predicted_reg'] = y_pred_test\n",
    "\n",
    "xg = xgb.XGBRegressor(objective= 'reg:squarederror',)\n",
    "xgb_param_grid = {\n",
    "            'max_depth': range (2, 10, 2),\n",
    "            'n_estimators': range(20, 120, 20),\n",
    "            'learning_rate': [0.001,0.01, 0.1]\n",
    "        }\n",
    "xgb_grid_search_cas = GridSearchCV(\n",
    "            estimator=xg,\n",
    "            param_grid=xgb_param_grid,\n",
    "            n_jobs = -1,\n",
    "            cv = 5,\n",
    "            verbose=False\n",
    "        )\n",
    "\n",
    "xgb_grid_search_cas.fit(X_train,y_train)\n",
    "y_pred_xgb_cas = xgb_grid_search_cas.predict(X_test)\n",
    "mse = mean_squared_error(y_pred_xgb_cas,y_test)\n",
    "print(np.sqrt(mse))\n",
    "print(time.time()-start)"
   ]
  },
  {
   "cell_type": "code",
   "execution_count": 382,
   "metadata": {},
   "outputs": [
    {
     "name": "stdout",
     "output_type": "stream",
     "text": [
      "0.3131515920790358\n"
     ]
    }
   ],
   "source": [
    "y_pred_reg_cas = np.log((np.exp(y_pred_xgb_reg)-1 + np.exp(y_pred_xgb_cas)-1)+1)\n",
    "\n",
    "y = np.log(1+df['count'])\n",
    "X_train, X_test, y_train, y_test = train_test_split(X, y, test_size=0.2,random_state = 42)\n",
    "mse = mean_squared_error(y_pred_reg_cas,y_test)\n",
    "print(np.sqrt(mse))"
   ]
  },
  {
   "cell_type": "markdown",
   "metadata": {},
   "source": [
    "## Visualization of casual"
   ]
  },
  {
   "cell_type": "code",
   "execution_count": null,
   "metadata": {},
   "outputs": [],
   "source": [
    "fig = plt.figure(figsize=(12,12))\n",
    "\n",
    "for i,col in enumerate(discrete):\n",
    "    plt.subplot(3,3,i+1);\n",
    "    plt.bar(x = df[col].unique(),height = df.groupby(col)['casual'].sum(),label = col);\n",
    "    plt.legend()\n",
    "    plt.tight_layout()\n",
    "\n",
    "\n",
    "plt.plot(df[df['weather'] == 1]['registered'],df[df['weather'] == 1]['casual'],'o')"
   ]
  }
 ],
 "metadata": {
  "kernelspec": {
   "display_name": "Python 3",
   "language": "python",
   "name": "python3"
  },
  "language_info": {
   "codemirror_mode": {
    "name": "ipython",
    "version": 3
   },
   "file_extension": ".py",
   "mimetype": "text/x-python",
   "name": "python",
   "nbconvert_exporter": "python",
   "pygments_lexer": "ipython3",
   "version": "3.8.5"
  }
 },
 "nbformat": 4,
 "nbformat_minor": 4
}
